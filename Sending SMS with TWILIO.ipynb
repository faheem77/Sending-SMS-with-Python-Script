{
 "cells": [
  {
   "cell_type": "markdown",
   "metadata": {},
   "source": [
    "## Getting credentials and saving it in json file"
   ]
  },
  {
   "cell_type": "code",
   "execution_count": 16,
   "metadata": {},
   "outputs": [
    {
     "name": "stdout",
     "output_type": "stream",
     "text": [
      "What's the Twilio Account SID?········\n",
      "What's the Twilio Secret?········\n"
     ]
    }
   ],
   "source": [
    "import json\n",
    "from getpass import getpass\n",
    "\n",
    "reset_creds = True\n",
    "\n",
    "if reset_creds:\n",
    "    twilio_sid = getpass(\"What's the Twilio Account SID?\")\n",
    "    twilio_secret = getpass(\"What's the Twilio Secret?\")\n",
    "    '''\n",
    "    This will save our creds from above (blank or not) to a local file\n",
    "    named `creds.json` so we can re-use this credentials.\n",
    "    '''\n",
    "    data = {\n",
    "        \"twilio_sid\": twilio_sid,\n",
    "        \"twilio_secret\": twilio_secret\n",
    "    }\n",
    "    json_data = json.dumps(data)\n",
    "    with open('creds.json', 'w') as f:\n",
    "        f.write(json_data)"
   ]
  },
  {
   "cell_type": "code",
   "execution_count": 17,
   "metadata": {},
   "outputs": [],
   "source": [
    "#!pip install twilio"
   ]
  },
  {
   "cell_type": "markdown",
   "metadata": {},
   "source": [
    "## Loading credentials from save json file "
   ]
  },
  {
   "cell_type": "code",
   "execution_count": 28,
   "metadata": {},
   "outputs": [],
   "source": [
    "twilio_sid = \"\"\n",
    "twilio_secret = \"\"\n",
    "with open('creds.json', 'r') as f:\n",
    "    raw_data = f.read()\n",
    "    cred_data = json.loads(raw_data)\n",
    "    twilio_sid = cred_data.get('twilio_sid')\n",
    "    twilio_secret= cred_data.get('twilio_secret')"
   ]
  },
  {
   "cell_type": "code",
   "execution_count": 29,
   "metadata": {},
   "outputs": [],
   "source": [
    "from twilio.rest import Client\n",
    "client = Client(twilio_sid, twilio_secret)"
   ]
  },
  {
   "cell_type": "markdown",
   "metadata": {},
   "source": [
    "## sender number and recieved number"
   ]
  },
  {
   "cell_type": "code",
   "execution_count": 32,
   "metadata": {},
   "outputs": [],
   "source": [
    "my_number = \"+12623933142\" #+92123232323\n",
    "other_number = \"+923006807450\" #+44123231222"
   ]
  },
  {
   "cell_type": "markdown",
   "metadata": {},
   "source": [
    "## sending message"
   ]
  },
  {
   "cell_type": "code",
   "execution_count": 31,
   "metadata": {},
   "outputs": [],
   "source": [
    "body = \"send by faheem :D \"\n",
    "\n",
    "message_twilio = client.messages.create(\n",
    "    body = body,\n",
    "    from_= my_number,\n",
    "    to = other_number\n",
    "    )"
   ]
  },
  {
   "cell_type": "code",
   "execution_count": null,
   "metadata": {},
   "outputs": [],
   "source": []
  }
 ],
 "metadata": {
  "kernelspec": {
   "display_name": "Python 3",
   "language": "python",
   "name": "python3"
  },
  "language_info": {
   "codemirror_mode": {
    "name": "ipython",
    "version": 3
   },
   "file_extension": ".py",
   "mimetype": "text/x-python",
   "name": "python",
   "nbconvert_exporter": "python",
   "pygments_lexer": "ipython3",
   "version": "3.7.3"
  }
 },
 "nbformat": 4,
 "nbformat_minor": 2
}
